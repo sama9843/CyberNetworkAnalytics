{
 "cells": [
  {
   "cell_type": "code",
   "execution_count": null,
   "metadata": {
    "id": "w5nCx3mYqTqE"
   },
   "outputs": [],
   "source": [
    "# Graph embedding\n",
    "\n",
    "import networkx as nx\n",
    "from node2vec import Node2Vec\n",
    "\n",
    "# create a graph of the IP addresses\n",
    "ip_graph = nx.Graph()\n",
    "ip_graph.add_nodes_from(ip_addresses)\n",
    "for i, ip1 in enumerate(ip_addresses):\n",
    "    for j, ip2 in enumerate(ip_addresses[i+1:], i+1):\n",
    "        if is_similar(ip1, ip2): # define your own similarity function\n",
    "            ip_graph.add_edge(ip1, ip2)\n",
    "\n",
    "# run node2vec to create embeddings\n",
    "node2vec = Node2Vec(ip_graph, dimensions=64, walk_length=30, num_walks=200, workers=4)\n",
    "ip_embeddings = node2vec.fit_transform()"
   ]
  },
  {
   "cell_type": "code",
   "execution_count": null,
   "metadata": {
    "id": "dz7LovG-BMZt"
   },
   "outputs": [],
   "source": [
    "# K-Means clustering\n",
    "# Using elbow method to determine best amount of clusters\n",
    "\n",
    "from sklearn.cluster import KMeans\n",
    "\n",
    "inertia = [] \n",
    "k_range = range(1, 1000)\n",
    "for i in k_range: \n",
    "    kmeans = KMeans(n_clusters = i, init = 'k-means++', random_state = 42)\n",
    "    kmeans.fit(X) \n",
    "    inertia.append(kmeans.inertia_)\n",
    "\n",
    "sns.lineplot(x = k_range, y = inertia)"
   ]
  },
  {
   "cell_type": "code",
   "execution_count": null,
   "metadata": {
    "id": "NXtVwWowBbsS"
   },
   "outputs": [],
   "source": [
    "\n",
    "kmeans = KMeans(\n",
    "        n_clusters=100, # change 100 to whatever the best amount of clusters is from the code above\n",
    "        init=\"k-means++\",\n",
    "        n_init=10,\n",
    "        tol=1e-04, random_state=42\n",
    "    )\n",
    "kmeans.fit(X)\n",
    "\n",
    "clusters=pd.DataFrame(X,columns=features)\n",
    "clusters['label']=kmeans.labels_\n",
    "labels = kmeans.labels_\n",
    "centroids = kmeans.cluster_centers_"
   ]
  },
  {
   "cell_type": "code",
   "execution_count": null,
   "metadata": {
    "id": "Pd_EpQ0jq_tx"
   },
   "outputs": [],
   "source": [
    "import numpy as np\n",
    "\n",
    "# create a new node in the HIN to represent the IP-similar-IP relationship\n",
    "ip_similar_ip_node = 'IP-Similar-IP'\n",
    "ip_similar_ip_features = np.zeros((len(ip_addresses), 1))\n",
    "for i, ip in enumerate(ip_addresses):\n",
    "    if is_similar(ip, similar_ip): # define your own similarity function\n",
    "        ip_similar_ip_features[i] = 1\n",
    "\n",
    "hin.add_node(ip_similar_ip_node, bipartite=1)\n",
    "for i, ip in enumerate(ip_addresses):\n",
    "    if is_similar(ip, similar_ip): # define your own similarity function\n",
    "        hin.add_edge(ip, ip_similar_ip_node, weight=ip_similar_ip_features[i])\n"
   ]
  }
 ],
 "metadata": {
  "colab": {
   "provenance": []
  },
  "kernelspec": {
   "display_name": "Python 3 (ipykernel)",
   "language": "python",
   "name": "python3"
  },
  "language_info": {
   "codemirror_mode": {
    "name": "ipython",
    "version": 3
   },
   "file_extension": ".py",
   "mimetype": "text/x-python",
   "name": "python",
   "nbconvert_exporter": "python",
   "pygments_lexer": "ipython3",
   "version": "3.9.13"
  }
 },
 "nbformat": 4,
 "nbformat_minor": 4
}
